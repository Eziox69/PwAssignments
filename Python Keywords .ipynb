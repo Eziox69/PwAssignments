{
 "cells": [
  {
   "cell_type": "markdown",
   "id": "086cf9fd-7826-466a-b14a-d120dbe1cc11",
   "metadata": {},
   "source": [
    "Question 1\n"
   ]
  },
  {
   "cell_type": "markdown",
   "id": "45e974a3-289e-4ae4-9107-d9be7bebe73b",
   "metadata": {},
   "source": [
    "Python keywords are the predefined words with specific meaning that cannot be used for other things such as variable or function names."
   ]
  },
  {
   "cell_type": "markdown",
   "id": "35b0a837-a535-4aad-83bd-a28c3fd0dd9e",
   "metadata": {},
   "source": [
    "Kewords like if, else, elif are used in conditional statements."
   ]
  },
  {
   "cell_type": "markdown",
   "id": "7bdb1408-15f3-432c-a05c-77b441375287",
   "metadata": {},
   "source": [
    "Keywords like int, float, str, tuple, list are used to declare variables."
   ]
  },
  {
   "cell_type": "markdown",
   "id": "8477e6c4-e77e-4b36-bd93-969577c2ff8c",
   "metadata": {},
   "source": [
    "Question 2"
   ]
  },
  {
   "cell_type": "markdown",
   "id": "058b679a-ea0a-451f-889f-3f05a674bb8e",
   "metadata": {},
   "source": [
    "First letter should be a letter or an underscore.It should not start with a number."
   ]
  },
  {
   "cell_type": "markdown",
   "id": "9db1ecf5-004d-473a-a9c6-a42e83541685",
   "metadata": {},
   "source": [
    "Keywords can be used as identifiers."
   ]
  },
  {
   "cell_type": "code",
   "execution_count": 1,
   "id": "f24a7f25-a429-47b4-a03f-b8e5179893c3",
   "metadata": {},
   "outputs": [],
   "source": [
    "hello=5"
   ]
  },
  {
   "cell_type": "code",
   "execution_count": 2,
   "id": "657846eb-3959-4eb9-84d5-dae98b7843f4",
   "metadata": {},
   "outputs": [],
   "source": [
    "bye=7"
   ]
  },
  {
   "cell_type": "code",
   "execution_count": 3,
   "id": "4c4db861-a620-42dc-87ea-051f57db6fcf",
   "metadata": {},
   "outputs": [
    {
     "name": "stdout",
     "output_type": "stream",
     "text": [
      "5\n"
     ]
    }
   ],
   "source": [
    "print(hello)\n"
   ]
  },
  {
   "cell_type": "markdown",
   "id": "12e35cf8-e7f8-477e-b3a9-ac8fbf5ae2e9",
   "metadata": {},
   "source": [
    "Question 3"
   ]
  },
  {
   "cell_type": "markdown",
   "id": "71c8bfc8-88a3-49c2-8348-99f6aa65fe47",
   "metadata": {},
   "source": [
    "Comments are the pieces of text which is written by the coder so that he can understand his code later because we cant memorize everything so to keep notes we leave comments or we can leave a comment for any other reason too.\n",
    "Comments make the understanding of code easy."
   ]
  },
  {
   "cell_type": "code",
   "execution_count": 4,
   "id": "a381b758-8770-415b-82b2-919d32950ad1",
   "metadata": {},
   "outputs": [],
   "source": [
    "#In python cooments are initiated by a hash."
   ]
  },
  {
   "cell_type": "markdown",
   "id": "9f368f78-62e1-47e0-a34c-128fe2dee728",
   "metadata": {},
   "source": [
    "Question 4"
   ]
  },
  {
   "cell_type": "markdown",
   "id": "a51126c1-d306-4cdb-8bb3-a5ad300700f1",
   "metadata": {},
   "source": [
    "In Python indentation is a part of syntax and is necessary to run the code.\n",
    "Like  every other languagae where curly braces are needed likwise in python indentation is needed.\n",
    "And it also makes the code look readable."
   ]
  },
  {
   "cell_type": "markdown",
   "id": "e13004ce-e35e-4ba3-a6f3-6df357124f6f",
   "metadata": {},
   "source": [
    "Question 5"
   ]
  },
  {
   "cell_type": "markdown",
   "id": "e146bd15-3788-453b-b0ac-6aae3e32d487",
   "metadata": {},
   "source": [
    "If the indentation is not proper it can give an error\n",
    "or it can not work as we want the piece of code to work.\n",
    "For example,\n",
    "In the if else condition if the indentation is not proper the lines under if and else block will be considered as a part of the main block not the conditional block.\n",
    "so it will show a different behaviour."
   ]
  },
  {
   "cell_type": "markdown",
   "id": "22d6efe6-bffa-4932-adf4-d2200cb9924b",
   "metadata": {},
   "source": [
    "Question 6"
   ]
  },
  {
   "cell_type": "markdown",
   "id": "6e0133ba-649d-4b46-bb3d-3e6d8df8a271",
   "metadata": {},
   "source": [
    "Expression is a combination of values, variables, operators, and function calls, which computes a single output.\n",
    "Statement is an instruction that performs an action or defines the structure of a program."
   ]
  },
  {
   "cell_type": "code",
   "execution_count": 9,
   "id": "8d96b34e-f491-4bfb-b71d-c13bcd35c56b",
   "metadata": {},
   "outputs": [
    {
     "data": {
      "text/plain": [
       "11"
      ]
     },
     "execution_count": 9,
     "metadata": {},
     "output_type": "execute_result"
    }
   ],
   "source": [
    "age=5#statement\n",
    "age2=6#statement\n",
    "age+age2#expression"
   ]
  },
  {
   "cell_type": "code",
   "execution_count": 11,
   "id": "686df3ba-fd83-4914-b9fc-b1383112bd58",
   "metadata": {},
   "outputs": [
    {
     "name": "stdout",
     "output_type": "stream",
     "text": [
      "5\n"
     ]
    }
   ],
   "source": [
    "print(age)#statement"
   ]
  },
  {
   "cell_type": "code",
   "execution_count": null,
   "id": "aaecac98-3684-4136-bc17-429aa2cd19c2",
   "metadata": {},
   "outputs": [],
   "source": []
  }
 ],
 "metadata": {
  "kernelspec": {
   "display_name": "Python 3 (ipykernel)",
   "language": "python",
   "name": "python3"
  },
  "language_info": {
   "codemirror_mode": {
    "name": "ipython",
    "version": 3
   },
   "file_extension": ".py",
   "mimetype": "text/x-python",
   "name": "python",
   "nbconvert_exporter": "python",
   "pygments_lexer": "ipython3",
   "version": "3.12.1"
  }
 },
 "nbformat": 4,
 "nbformat_minor": 5
}
