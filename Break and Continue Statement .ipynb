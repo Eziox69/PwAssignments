{
 "cells": [
  {
   "cell_type": "markdown",
   "id": "c248f794-6db5-4009-82de-ec1171ba73ae",
   "metadata": {},
   "source": [
    "Question 1"
   ]
  },
  {
   "cell_type": "code",
   "execution_count": 10,
   "id": "9886f2fa-cc64-4cb7-817d-4192b60295ef",
   "metadata": {},
   "outputs": [
    {
     "name": "stdout",
     "output_type": "stream",
     "text": [
      "1\n",
      "2\n",
      "3\n",
      "4\n"
     ]
    }
   ],
   "source": [
    "for i in range(1,11):\n",
    "    if i==5:\n",
    "        break\n",
    "    else:\n",
    "        print(i)"
   ]
  },
  {
   "cell_type": "markdown",
   "id": "97d52257-a36d-452c-925f-889688fddf02",
   "metadata": {},
   "source": [
    "Question 2"
   ]
  },
  {
   "cell_type": "code",
   "execution_count": 4,
   "id": "e3874e70-c6d3-4117-8eb6-3b663585e0bd",
   "metadata": {},
   "outputs": [
    {
     "name": "stdout",
     "output_type": "stream",
     "text": [
      "1\n",
      "2\n"
     ]
    }
   ],
   "source": [
    "my_list=[1,2,4,5,6]\n",
    "for i in my_list:\n",
    "    if i==4:\n",
    "        break\n",
    "    else:\n",
    "        print(i)"
   ]
  },
  {
   "cell_type": "markdown",
   "id": "7ce539c9-e2e7-45a1-8209-2da31b51ea86",
   "metadata": {},
   "source": [
    "Question 3"
   ]
  },
  {
   "cell_type": "code",
   "execution_count": 11,
   "id": "9373b431-7d20-4fd7-a587-df940cd8eda8",
   "metadata": {},
   "outputs": [
    {
     "name": "stdout",
     "output_type": "stream",
     "text": [
      "1\n",
      "3\n",
      "5\n",
      "7\n",
      "9\n"
     ]
    }
   ],
   "source": [
    "for i in range(1,11):\n",
    "    if i%2==0:\n",
    "        continue\n",
    "    else:\n",
    "        print(i)"
   ]
  },
  {
   "cell_type": "markdown",
   "id": "b71a6f4d-cc60-4e02-844c-7ecfa8c90e27",
   "metadata": {},
   "source": [
    "Question 4"
   ]
  },
  {
   "cell_type": "code",
   "execution_count": 9,
   "id": "5f15b860-b3c8-4b3c-89aa-5cd55adc7fa4",
   "metadata": {},
   "outputs": [
    {
     "name": "stdout",
     "output_type": "stream",
     "text": [
      "0\n",
      "1\n",
      "2\n",
      "3\n",
      "4\n",
      "5\n",
      "6\n",
      "7\n",
      "8\n",
      "9\n"
     ]
    }
   ],
   "source": [
    "for i in range (0,10):\n",
    "    print(i)"
   ]
  },
  {
   "cell_type": "markdown",
   "id": "e29fb90f-e255-4925-9060-28a6015c3b60",
   "metadata": {},
   "source": [
    "Question 5"
   ]
  },
  {
   "cell_type": "code",
   "execution_count": 15,
   "id": "baf7e152-8e36-42dd-abf0-90868249a09c",
   "metadata": {},
   "outputs": [
    {
     "name": "stdout",
     "output_type": "stream",
     "text": [
      "Multiplication Table of 1\n",
      "1 x 1 = 1\n",
      "Multiplication Table of 2\n",
      "1 x 2 = 2\n",
      "Multiplication Table of 3\n",
      "1 x 3 = 3\n",
      "Multiplication Table of 4\n",
      "1 x 4 = 4\n",
      "Multiplication Table of 5\n",
      "1 x 5 = 5\n"
     ]
    }
   ],
   "source": [
    "numbers = range(1, 6)\n",
    "for num in numbers:\n",
    " print(f\"Multiplication Table of {num}\")\n",
    " print(f\"{1} x {num} = {1 * num}\")\n"
   ]
  },
  {
   "cell_type": "markdown",
   "id": "126d8d99-7ece-4534-b833-e19d15c8820f",
   "metadata": {},
   "source": [
    "Question 6"
   ]
  },
  {
   "cell_type": "code",
   "execution_count": 1,
   "id": "50e06428-872c-47b3-b996-a6f565857c11",
   "metadata": {},
   "outputs": [
    {
     "name": "stdout",
     "output_type": "stream",
     "text": [
      "1\n",
      "3\n",
      "5\n",
      "7\n",
      "9\n"
     ]
    }
   ],
   "source": [
    "x=1\n",
    "\n",
    "while x<=10:\n",
    "    if x%2!=0:\n",
    "         print(x)\n",
    "    x+=1\n"
   ]
  },
  {
   "cell_type": "code",
   "execution_count": null,
   "id": "ae7011f4-85c6-48da-a221-87acd389bd6e",
   "metadata": {},
   "outputs": [],
   "source": []
  }
 ],
 "metadata": {
  "kernelspec": {
   "display_name": "Python 3 (ipykernel)",
   "language": "python",
   "name": "python3"
  },
  "language_info": {
   "codemirror_mode": {
    "name": "ipython",
    "version": 3
   },
   "file_extension": ".py",
   "mimetype": "text/x-python",
   "name": "python",
   "nbconvert_exporter": "python",
   "pygments_lexer": "ipython3",
   "version": "3.12.1"
  }
 },
 "nbformat": 4,
 "nbformat_minor": 5
}
