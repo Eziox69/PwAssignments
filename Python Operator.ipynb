{
 "cells": [
  {
   "cell_type": "markdown",
   "id": "b2ada0bc-c61e-4ce6-a843-b7a35909da61",
   "metadata": {},
   "source": [
    "Question 1"
   ]
  },
  {
   "cell_type": "code",
   "execution_count": 18,
   "id": "9da366bb-33c6-438a-8c26-0fdedd406490",
   "metadata": {},
   "outputs": [],
   "source": [
    "a=5"
   ]
  },
  {
   "cell_type": "code",
   "execution_count": 19,
   "id": "34c22aa5-8e9e-4ad5-81c8-fb733e3c3bff",
   "metadata": {},
   "outputs": [],
   "source": [
    "b=2"
   ]
  },
  {
   "cell_type": "code",
   "execution_count": 20,
   "id": "7051de78-5cc2-467a-a90e-e2ebc9ea7e56",
   "metadata": {},
   "outputs": [
    {
     "data": {
      "text/plain": [
       "7"
      ]
     },
     "execution_count": 20,
     "metadata": {},
     "output_type": "execute_result"
    }
   ],
   "source": [
    "a+b"
   ]
  },
  {
   "cell_type": "code",
   "execution_count": 21,
   "id": "3203ff42-880e-4191-97db-f0af41a0c892",
   "metadata": {},
   "outputs": [
    {
     "data": {
      "text/plain": [
       "3"
      ]
     },
     "execution_count": 21,
     "metadata": {},
     "output_type": "execute_result"
    }
   ],
   "source": [
    "a-b"
   ]
  },
  {
   "cell_type": "code",
   "execution_count": 22,
   "id": "18dcecf8-b4ca-4816-93f7-1060259b3d08",
   "metadata": {},
   "outputs": [
    {
     "data": {
      "text/plain": [
       "10"
      ]
     },
     "execution_count": 22,
     "metadata": {},
     "output_type": "execute_result"
    }
   ],
   "source": [
    "a*b"
   ]
  },
  {
   "cell_type": "code",
   "execution_count": 23,
   "id": "4b4c13e8-0a56-475a-ae10-1c73b3ecd91a",
   "metadata": {},
   "outputs": [
    {
     "data": {
      "text/plain": [
       "2.5"
      ]
     },
     "execution_count": 23,
     "metadata": {},
     "output_type": "execute_result"
    }
   ],
   "source": [
    "a/b"
   ]
  },
  {
   "cell_type": "markdown",
   "id": "6c9f76b3-2367-47b2-958d-0296b0a41d6a",
   "metadata": {},
   "source": [
    "Question 2"
   ]
  },
  {
   "cell_type": "code",
   "execution_count": 24,
   "id": "0e27ca80-7b15-448a-a816-b21ec7365753",
   "metadata": {},
   "outputs": [],
   "source": [
    "a+=1"
   ]
  },
  {
   "cell_type": "code",
   "execution_count": 25,
   "id": "9aff0e83-288f-4649-b88b-50110a4ce4f0",
   "metadata": {},
   "outputs": [
    {
     "data": {
      "text/plain": [
       "6"
      ]
     },
     "execution_count": 25,
     "metadata": {},
     "output_type": "execute_result"
    }
   ],
   "source": [
    "a"
   ]
  },
  {
   "cell_type": "code",
   "execution_count": 26,
   "id": "50a1c96a-1011-4887-81b5-3fca9baa6393",
   "metadata": {},
   "outputs": [],
   "source": [
    "a*=2"
   ]
  },
  {
   "cell_type": "code",
   "execution_count": 27,
   "id": "3ec74efb-3dab-4b29-a360-6d796f9cbbda",
   "metadata": {},
   "outputs": [
    {
     "data": {
      "text/plain": [
       "12"
      ]
     },
     "execution_count": 27,
     "metadata": {},
     "output_type": "execute_result"
    }
   ],
   "source": [
    "a"
   ]
  },
  {
   "cell_type": "code",
   "execution_count": 28,
   "id": "e16b719b-9451-4bc5-8c32-8cfaa7ccc338",
   "metadata": {},
   "outputs": [],
   "source": [
    "a-=3"
   ]
  },
  {
   "cell_type": "code",
   "execution_count": 29,
   "id": "e32b275e-5287-48cf-95f2-4123af3b6f7a",
   "metadata": {},
   "outputs": [
    {
     "data": {
      "text/plain": [
       "9"
      ]
     },
     "execution_count": 29,
     "metadata": {},
     "output_type": "execute_result"
    }
   ],
   "source": [
    "a"
   ]
  },
  {
   "cell_type": "code",
   "execution_count": 30,
   "id": "13ebc38c-90b7-4f41-8b59-2f1784caa3b0",
   "metadata": {},
   "outputs": [],
   "source": [
    "a**=2"
   ]
  },
  {
   "cell_type": "code",
   "execution_count": 31,
   "id": "a43db951-87c0-494a-a13e-096f1a31c4cd",
   "metadata": {},
   "outputs": [
    {
     "data": {
      "text/plain": [
       "81"
      ]
     },
     "execution_count": 31,
     "metadata": {},
     "output_type": "execute_result"
    }
   ],
   "source": [
    "a"
   ]
  },
  {
   "cell_type": "code",
   "execution_count": 32,
   "id": "bfff98bd-49e2-4d7c-a902-a82ed710c559",
   "metadata": {},
   "outputs": [],
   "source": [
    "a/=5"
   ]
  },
  {
   "cell_type": "code",
   "execution_count": 33,
   "id": "b9deb345-2a53-466d-b1b0-d0cee55d0f60",
   "metadata": {},
   "outputs": [
    {
     "data": {
      "text/plain": [
       "16.2"
      ]
     },
     "execution_count": 33,
     "metadata": {},
     "output_type": "execute_result"
    }
   ],
   "source": [
    "a"
   ]
  },
  {
   "cell_type": "code",
   "execution_count": 34,
   "id": "ab5175cd-efd5-4ff0-97f4-80dc2e940c27",
   "metadata": {},
   "outputs": [],
   "source": [
    "a//=5"
   ]
  },
  {
   "cell_type": "code",
   "execution_count": 35,
   "id": "0b05881d-0478-4478-9269-84c65d43f2e4",
   "metadata": {},
   "outputs": [
    {
     "data": {
      "text/plain": [
       "3.0"
      ]
     },
     "execution_count": 35,
     "metadata": {},
     "output_type": "execute_result"
    }
   ],
   "source": [
    "a"
   ]
  },
  {
   "cell_type": "markdown",
   "id": "aff4aea6-96fa-4e44-962d-b0c4de01d796",
   "metadata": {},
   "source": [
    "Question 3"
   ]
  },
  {
   "cell_type": "code",
   "execution_count": 36,
   "id": "4d32c996-f5b4-404f-b368-08d3d41769ad",
   "metadata": {},
   "outputs": [],
   "source": [
    "h=10"
   ]
  },
  {
   "cell_type": "code",
   "execution_count": 37,
   "id": "620a7e84-8e84-4aaa-afbf-73b1c944b1a2",
   "metadata": {},
   "outputs": [],
   "source": [
    "g=8"
   ]
  },
  {
   "cell_type": "code",
   "execution_count": 38,
   "id": "b4011617-59ea-4720-be7d-2a59c8e14866",
   "metadata": {},
   "outputs": [
    {
     "data": {
      "text/plain": [
       "False"
      ]
     },
     "execution_count": 38,
     "metadata": {},
     "output_type": "execute_result"
    }
   ],
   "source": [
    "h==g"
   ]
  },
  {
   "cell_type": "code",
   "execution_count": 40,
   "id": "02e686ab-4cf0-4566-a63c-378be7307a61",
   "metadata": {},
   "outputs": [
    {
     "data": {
      "text/plain": [
       "True"
      ]
     },
     "execution_count": 40,
     "metadata": {},
     "output_type": "execute_result"
    }
   ],
   "source": [
    "h!=g"
   ]
  },
  {
   "cell_type": "code",
   "execution_count": 41,
   "id": "776ce7c4-b71e-491c-92c2-6464b9fff88f",
   "metadata": {},
   "outputs": [
    {
     "data": {
      "text/plain": [
       "True"
      ]
     },
     "execution_count": 41,
     "metadata": {},
     "output_type": "execute_result"
    }
   ],
   "source": [
    "h>g"
   ]
  },
  {
   "cell_type": "code",
   "execution_count": 42,
   "id": "7a61ae22-9c2b-49b3-9323-358a7bc41a6a",
   "metadata": {},
   "outputs": [
    {
     "data": {
      "text/plain": [
       "False"
      ]
     },
     "execution_count": 42,
     "metadata": {},
     "output_type": "execute_result"
    }
   ],
   "source": [
    "h<g"
   ]
  },
  {
   "cell_type": "markdown",
   "id": "754fa80e-c4ad-4261-8368-f01360900fb1",
   "metadata": {},
   "source": [
    "Question 4"
   ]
  },
  {
   "cell_type": "code",
   "execution_count": 43,
   "id": "c3ab84d6-f1b1-4859-beac-0e832e459a01",
   "metadata": {},
   "outputs": [],
   "source": [
    "a=10"
   ]
  },
  {
   "cell_type": "code",
   "execution_count": 46,
   "id": "53068c61-0251-417c-b44e-6c6374bea8a1",
   "metadata": {},
   "outputs": [],
   "source": [
    "b=20"
   ]
  },
  {
   "cell_type": "code",
   "execution_count": 47,
   "id": "bbdbaf1f-eb8a-467a-9413-bcd3449b612e",
   "metadata": {},
   "outputs": [],
   "source": [
    "c=25"
   ]
  },
  {
   "cell_type": "code",
   "execution_count": 50,
   "id": "faec6f6f-d68a-4f7a-854d-3e5650f071f1",
   "metadata": {},
   "outputs": [
    {
     "name": "stdout",
     "output_type": "stream",
     "text": [
      "okay\n"
     ]
    }
   ],
   "source": [
    "if a<b and b<c:\n",
    "    print(\"okay\")\n",
    "else:\n",
    "    print(\"hello\")"
   ]
  },
  {
   "cell_type": "code",
   "execution_count": 52,
   "id": "ce2a7e58-b6a7-47b6-be94-006efb239ae1",
   "metadata": {},
   "outputs": [
    {
     "name": "stdout",
     "output_type": "stream",
     "text": [
      "hello\n"
     ]
    }
   ],
   "source": [
    "if a>b or b>c:\n",
    "    print(\"okay\")\n",
    "else:\n",
    "    print(\"hello\")"
   ]
  },
  {
   "cell_type": "markdown",
   "id": "7c5a33f3-c73c-49de-b1aa-2287ab59ff32",
   "metadata": {},
   "source": [
    "Question 5"
   ]
  },
  {
   "cell_type": "code",
   "execution_count": 53,
   "id": "8e3e8285-1443-4cc1-bf9f-0eac345eac87",
   "metadata": {},
   "outputs": [],
   "source": [
    "a=10"
   ]
  },
  {
   "cell_type": "code",
   "execution_count": 54,
   "id": "b8726413-5260-44c9-97cb-62a1eccbc7e1",
   "metadata": {},
   "outputs": [],
   "source": [
    "b=20"
   ]
  },
  {
   "cell_type": "code",
   "execution_count": 55,
   "id": "05e58828-8bd0-43da-b3ff-2cab292b53d0",
   "metadata": {},
   "outputs": [],
   "source": [
    "c=b"
   ]
  },
  {
   "cell_type": "code",
   "execution_count": 56,
   "id": "2de15144-2d01-4d84-8622-5488f2a50456",
   "metadata": {},
   "outputs": [
    {
     "name": "stdout",
     "output_type": "stream",
     "text": [
      "False\n"
     ]
    }
   ],
   "source": [
    "print(a is b)"
   ]
  },
  {
   "cell_type": "code",
   "execution_count": 57,
   "id": "8107c504-7940-4ec9-a456-03ab06f25570",
   "metadata": {},
   "outputs": [
    {
     "name": "stdout",
     "output_type": "stream",
     "text": [
      "True\n"
     ]
    }
   ],
   "source": [
    "print(b is c)"
   ]
  },
  {
   "cell_type": "markdown",
   "id": "7a984964-372a-41d9-bca7-5fd96e40cbd7",
   "metadata": {},
   "source": [
    "Question 6"
   ]
  },
  {
   "cell_type": "code",
   "execution_count": 59,
   "id": "cbdc382b-2c22-4857-a20a-0708a8dbd336",
   "metadata": {},
   "outputs": [
    {
     "data": {
      "text/plain": [
       "0"
      ]
     },
     "execution_count": 59,
     "metadata": {},
     "output_type": "execute_result"
    }
   ],
   "source": [
    "a&b"
   ]
  },
  {
   "cell_type": "code",
   "execution_count": 60,
   "id": "001224d3-e6ab-4e47-8b3b-0781792f108e",
   "metadata": {},
   "outputs": [
    {
     "data": {
      "text/plain": [
       "30"
      ]
     },
     "execution_count": 60,
     "metadata": {},
     "output_type": "execute_result"
    }
   ],
   "source": [
    "a|b"
   ]
  },
  {
   "cell_type": "code",
   "execution_count": 61,
   "id": "a22861a5-2360-434d-8258-a45397320bcd",
   "metadata": {},
   "outputs": [
    {
     "data": {
      "text/plain": [
       "30"
      ]
     },
     "execution_count": 61,
     "metadata": {},
     "output_type": "execute_result"
    }
   ],
   "source": [
    "a^b"
   ]
  },
  {
   "cell_type": "code",
   "execution_count": 62,
   "id": "f90f4230-5645-4802-9d5b-95a4f275d38f",
   "metadata": {},
   "outputs": [
    {
     "data": {
      "text/plain": [
       "-11"
      ]
     },
     "execution_count": 62,
     "metadata": {},
     "output_type": "execute_result"
    }
   ],
   "source": [
    "~a"
   ]
  },
  {
   "cell_type": "code",
   "execution_count": 63,
   "id": "7a3d6c4d-8901-4b66-b844-70690871016e",
   "metadata": {},
   "outputs": [
    {
     "data": {
      "text/plain": [
       "40"
      ]
     },
     "execution_count": 63,
     "metadata": {},
     "output_type": "execute_result"
    }
   ],
   "source": [
    "b<<1"
   ]
  },
  {
   "cell_type": "code",
   "execution_count": 64,
   "id": "67a194b5-0a31-4432-a56d-4bd6d60f4563",
   "metadata": {},
   "outputs": [
    {
     "data": {
      "text/plain": [
       "10"
      ]
     },
     "execution_count": 64,
     "metadata": {},
     "output_type": "execute_result"
    }
   ],
   "source": [
    "b>>1"
   ]
  },
  {
   "cell_type": "markdown",
   "id": "61392eff-6610-48b3-9108-858de94aaae1",
   "metadata": {},
   "source": [
    "Question 7"
   ]
  },
  {
   "cell_type": "code",
   "execution_count": 65,
   "id": "1fce54fe-c1b6-48bf-aba3-068024930c80",
   "metadata": {},
   "outputs": [],
   "source": [
    "a=10"
   ]
  },
  {
   "cell_type": "code",
   "execution_count": 66,
   "id": "c5b72862-de44-4d4a-a986-78e855bbd18a",
   "metadata": {},
   "outputs": [],
   "source": [
    "b=-a"
   ]
  },
  {
   "cell_type": "code",
   "execution_count": 67,
   "id": "5c096df6-ad2f-40ca-aceb-91fcd8630d88",
   "metadata": {},
   "outputs": [
    {
     "data": {
      "text/plain": [
       "-10"
      ]
     },
     "execution_count": 67,
     "metadata": {},
     "output_type": "execute_result"
    }
   ],
   "source": [
    "b"
   ]
  },
  {
   "cell_type": "markdown",
   "id": "c1ad3f7a-5932-4a4c-8569-2ba2ef617201",
   "metadata": {},
   "source": [
    "Question 8"
   ]
  },
  {
   "cell_type": "code",
   "execution_count": 71,
   "id": "93657091-ee47-4acf-88ba-e53562c22701",
   "metadata": {},
   "outputs": [
    {
     "name": "stdout",
     "output_type": "stream",
     "text": [
      "30\n"
     ]
    }
   ],
   "source": [
    "condition=True\n",
    "a=30 if condition else 45\n",
    "print(a)"
   ]
  },
  {
   "cell_type": "code",
   "execution_count": 72,
   "id": "a06eabcc-55d8-4e6f-bc3f-3e279119b75d",
   "metadata": {},
   "outputs": [
    {
     "name": "stdout",
     "output_type": "stream",
     "text": [
      "45\n"
     ]
    }
   ],
   "source": [
    "condition=False\n",
    "a=30 if condition else 45\n",
    "print(a)"
   ]
  },
  {
   "cell_type": "code",
   "execution_count": null,
   "id": "3267d559-c86f-446d-aa7b-bc55bef3f30f",
   "metadata": {},
   "outputs": [],
   "source": []
  }
 ],
 "metadata": {
  "kernelspec": {
   "display_name": "Python 3 (ipykernel)",
   "language": "python",
   "name": "python3"
  },
  "language_info": {
   "codemirror_mode": {
    "name": "ipython",
    "version": 3
   },
   "file_extension": ".py",
   "mimetype": "text/x-python",
   "name": "python",
   "nbconvert_exporter": "python",
   "pygments_lexer": "ipython3",
   "version": "3.12.1"
  }
 },
 "nbformat": 4,
 "nbformat_minor": 5
}
