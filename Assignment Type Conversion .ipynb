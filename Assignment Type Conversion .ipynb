{
 "cells": [
  {
   "cell_type": "markdown",
   "id": "659d3db2-f26b-4020-aee3-509834200bf7",
   "metadata": {},
   "source": [
    "ASSIGNMENT 1\n"
   ]
  },
  {
   "cell_type": "code",
   "execution_count": 1,
   "id": "5c9f2aac-0c9c-414a-a177-7fd334f4a332",
   "metadata": {},
   "outputs": [],
   "source": [
    "a=5"
   ]
  },
  {
   "cell_type": "code",
   "execution_count": 2,
   "id": "baf7a276-c09f-4045-af46-f962c3e61f01",
   "metadata": {},
   "outputs": [
    {
     "data": {
      "text/plain": [
       "int"
      ]
     },
     "execution_count": 2,
     "metadata": {},
     "output_type": "execute_result"
    }
   ],
   "source": [
    "type(a)"
   ]
  },
  {
   "cell_type": "code",
   "execution_count": 5,
   "id": "be3e3fb4-de2d-4c5b-9be8-ebd5a977036f",
   "metadata": {},
   "outputs": [],
   "source": [
    "b=float(a)"
   ]
  },
  {
   "cell_type": "code",
   "execution_count": 6,
   "id": "9f921927-ca42-425c-aec7-7784ec86c5a6",
   "metadata": {},
   "outputs": [
    {
     "data": {
      "text/plain": [
       "5.0"
      ]
     },
     "execution_count": 6,
     "metadata": {},
     "output_type": "execute_result"
    }
   ],
   "source": [
    "b\n"
   ]
  },
  {
   "cell_type": "code",
   "execution_count": 7,
   "id": "5a75f1b3-2c91-4aa8-a3f6-5e702e581479",
   "metadata": {},
   "outputs": [
    {
     "data": {
      "text/plain": [
       "float"
      ]
     },
     "execution_count": 7,
     "metadata": {},
     "output_type": "execute_result"
    }
   ],
   "source": [
    "type(b)"
   ]
  },
  {
   "cell_type": "markdown",
   "id": "0a4dc968-d98f-4994-8106-9585f81d6f5e",
   "metadata": {},
   "source": [
    "Question 2\n"
   ]
  },
  {
   "cell_type": "code",
   "execution_count": 8,
   "id": "70cee350-d801-4ebe-9d39-aba56daf2c97",
   "metadata": {},
   "outputs": [],
   "source": [
    "a=5.0"
   ]
  },
  {
   "cell_type": "code",
   "execution_count": 9,
   "id": "44377b77-a54d-4f9d-9bde-c849420b56ae",
   "metadata": {},
   "outputs": [
    {
     "data": {
      "text/plain": [
       "float"
      ]
     },
     "execution_count": 9,
     "metadata": {},
     "output_type": "execute_result"
    }
   ],
   "source": [
    "type(a)"
   ]
  },
  {
   "cell_type": "code",
   "execution_count": 10,
   "id": "c525c216-7c04-40cd-ab82-9f2c28955f23",
   "metadata": {},
   "outputs": [],
   "source": [
    "b=int(a)"
   ]
  },
  {
   "cell_type": "code",
   "execution_count": 11,
   "id": "fb97905c-d675-4437-a563-3529508171ce",
   "metadata": {},
   "outputs": [
    {
     "data": {
      "text/plain": [
       "5"
      ]
     },
     "execution_count": 11,
     "metadata": {},
     "output_type": "execute_result"
    }
   ],
   "source": [
    "b"
   ]
  },
  {
   "cell_type": "code",
   "execution_count": 12,
   "id": "b23cea7e-7eee-4e65-9011-be8c9007d3e2",
   "metadata": {},
   "outputs": [
    {
     "data": {
      "text/plain": [
       "int"
      ]
     },
     "execution_count": 12,
     "metadata": {},
     "output_type": "execute_result"
    }
   ],
   "source": [
    "type(b)"
   ]
  },
  {
   "cell_type": "markdown",
   "id": "9054eb8e-fb60-4bf6-a348-634717b440ed",
   "metadata": {},
   "source": [
    "Question 3"
   ]
  },
  {
   "cell_type": "code",
   "execution_count": 13,
   "id": "cab611b3-0bfb-4eff-b727-c08cb992925c",
   "metadata": {},
   "outputs": [],
   "source": [
    "a=5"
   ]
  },
  {
   "cell_type": "code",
   "execution_count": 14,
   "id": "2f808b60-41d9-492d-962d-b8f2aee7b17c",
   "metadata": {},
   "outputs": [
    {
     "data": {
      "text/plain": [
       "int"
      ]
     },
     "execution_count": 14,
     "metadata": {},
     "output_type": "execute_result"
    }
   ],
   "source": [
    "type(a)"
   ]
  },
  {
   "cell_type": "code",
   "execution_count": 15,
   "id": "f0de3ce5-c68e-4d89-8835-bc003c9b5e63",
   "metadata": {},
   "outputs": [],
   "source": [
    "b=str(a)"
   ]
  },
  {
   "cell_type": "code",
   "execution_count": 16,
   "id": "aa8edd70-de78-4a25-a75a-3b9775e771e6",
   "metadata": {},
   "outputs": [
    {
     "data": {
      "text/plain": [
       "'5'"
      ]
     },
     "execution_count": 16,
     "metadata": {},
     "output_type": "execute_result"
    }
   ],
   "source": [
    "b"
   ]
  },
  {
   "cell_type": "code",
   "execution_count": 17,
   "id": "84b1c8ce-17fd-4a66-8e38-0927374c96e9",
   "metadata": {},
   "outputs": [
    {
     "data": {
      "text/plain": [
       "str"
      ]
     },
     "execution_count": 17,
     "metadata": {},
     "output_type": "execute_result"
    }
   ],
   "source": [
    "type(b)"
   ]
  },
  {
   "cell_type": "markdown",
   "id": "9bc3bdc2-946b-4fc3-9a05-12f6d896950d",
   "metadata": {},
   "source": [
    "Question 4"
   ]
  },
  {
   "cell_type": "code",
   "execution_count": 1,
   "id": "86c8f201-dee8-4165-8922-b05accd3cd95",
   "metadata": {},
   "outputs": [],
   "source": [
    "hello = [1, 2, 3]\n",
    "bye = tuple(hello) \n"
   ]
  },
  {
   "cell_type": "code",
   "execution_count": 6,
   "id": "265f0d66-af24-444e-bd04-f8ad0f93fe98",
   "metadata": {},
   "outputs": [
    {
     "data": {
      "text/plain": [
       "(1, 2, 3)"
      ]
     },
     "execution_count": 6,
     "metadata": {},
     "output_type": "execute_result"
    }
   ],
   "source": [
    "bye"
   ]
  },
  {
   "cell_type": "markdown",
   "id": "47e4a5ef-f4e9-425b-ada0-180bfb367930",
   "metadata": {},
   "source": [
    "Question 5"
   ]
  },
  {
   "cell_type": "code",
   "execution_count": 3,
   "id": "7fd161c7-e980-477d-9147-1c5ddc8f654a",
   "metadata": {},
   "outputs": [],
   "source": [
    "jjj=(1,2,3,4)"
   ]
  },
  {
   "cell_type": "code",
   "execution_count": 4,
   "id": "099a1d91-6738-4dcf-b176-bf48d6c75671",
   "metadata": {},
   "outputs": [],
   "source": [
    "kkk=list(jjj)"
   ]
  },
  {
   "cell_type": "code",
   "execution_count": 5,
   "id": "6f7969a3-4207-4e9f-a349-ec3db640c71e",
   "metadata": {},
   "outputs": [
    {
     "data": {
      "text/plain": [
       "[1, 2, 3, 4]"
      ]
     },
     "execution_count": 5,
     "metadata": {},
     "output_type": "execute_result"
    }
   ],
   "source": [
    "kkk"
   ]
  },
  {
   "cell_type": "markdown",
   "id": "5ec66aa2-21ae-4b6e-9eca-3d1cfbe9d7c8",
   "metadata": {},
   "source": [
    "Question 6"
   ]
  },
  {
   "cell_type": "code",
   "execution_count": 9,
   "id": "32fa3b39-4dda-4750-9b9f-5a12256ac7d7",
   "metadata": {},
   "outputs": [],
   "source": [
    "dec=5"
   ]
  },
  {
   "cell_type": "code",
   "execution_count": 10,
   "id": "c02b2f44-79d3-4013-8f87-b9fd425e4b08",
   "metadata": {},
   "outputs": [
    {
     "data": {
      "text/plain": [
       "'0b101'"
      ]
     },
     "execution_count": 10,
     "metadata": {},
     "output_type": "execute_result"
    }
   ],
   "source": [
    "bin(dec)"
   ]
  },
  {
   "cell_type": "markdown",
   "id": "4c0daa9d-1ab1-43c2-a0de-eff785019467",
   "metadata": {},
   "source": [
    "Question 7"
   ]
  },
  {
   "cell_type": "code",
   "execution_count": 12,
   "id": "50ea2ece-0d59-4218-b0cd-51853a3ccb80",
   "metadata": {},
   "outputs": [],
   "source": [
    "non_zero=7"
   ]
  },
  {
   "cell_type": "code",
   "execution_count": 13,
   "id": "db192e81-75f8-44f1-a124-0429d3b8994f",
   "metadata": {},
   "outputs": [],
   "source": [
    "kafka=bool(non_zero)"
   ]
  },
  {
   "cell_type": "code",
   "execution_count": 14,
   "id": "68890ec9-4273-4ec8-9670-b24927dbbe04",
   "metadata": {},
   "outputs": [
    {
     "data": {
      "text/plain": [
       "True"
      ]
     },
     "execution_count": 14,
     "metadata": {},
     "output_type": "execute_result"
    }
   ],
   "source": [
    "kafka"
   ]
  },
  {
   "cell_type": "code",
   "execution_count": 15,
   "id": "97ba5290-6525-4bc2-a056-eac4024ad446",
   "metadata": {},
   "outputs": [
    {
     "data": {
      "text/plain": [
       "bool"
      ]
     },
     "execution_count": 15,
     "metadata": {},
     "output_type": "execute_result"
    }
   ],
   "source": [
    "type(kafka)"
   ]
  },
  {
   "cell_type": "code",
   "execution_count": null,
   "id": "4d29f669-36c7-4496-837f-64931ed25831",
   "metadata": {},
   "outputs": [],
   "source": []
  }
 ],
 "metadata": {
  "kernelspec": {
   "display_name": "Python 3 (ipykernel)",
   "language": "python",
   "name": "python3"
  },
  "language_info": {
   "codemirror_mode": {
    "name": "ipython",
    "version": 3
   },
   "file_extension": ".py",
   "mimetype": "text/x-python",
   "name": "python",
   "nbconvert_exporter": "python",
   "pygments_lexer": "ipython3",
   "version": "3.12.1"
  }
 },
 "nbformat": 4,
 "nbformat_minor": 5
}
