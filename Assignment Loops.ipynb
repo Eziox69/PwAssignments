{
 "cells": [
  {
   "cell_type": "markdown",
   "id": "5fd43deb-af89-4884-a1fd-72f213d6b016",
   "metadata": {},
   "source": [
    "Question 1"
   ]
  },
  {
   "cell_type": "code",
   "execution_count": 1,
   "id": "5d1e192b-403c-497c-86be-f295af21a111",
   "metadata": {},
   "outputs": [],
   "source": [
    "i=1"
   ]
  },
  {
   "cell_type": "code",
   "execution_count": 2,
   "id": "2024ffcd-f96d-478c-ba7c-e9a3c19f350e",
   "metadata": {},
   "outputs": [],
   "source": [
    "j=5"
   ]
  },
  {
   "cell_type": "code",
   "execution_count": 4,
   "id": "f5eb2373-12a5-48dc-a5e4-0f76c06607f1",
   "metadata": {},
   "outputs": [
    {
     "name": "stdout",
     "output_type": "stream",
     "text": [
      "1\n",
      "2\n",
      "3\n",
      "4\n",
      "5\n"
     ]
    }
   ],
   "source": [
    "while i<=j:\n",
    "    print(i)\n",
    "    i+=1"
   ]
  },
  {
   "cell_type": "markdown",
   "id": "0274ada0-ad87-4e72-9d25-153c8e646a68",
   "metadata": {},
   "source": [
    "Question 2"
   ]
  },
  {
   "cell_type": "code",
   "execution_count": 5,
   "id": "28168cf5-a8d0-4f34-a543-a60f85d25a27",
   "metadata": {},
   "outputs": [],
   "source": [
    "i=1"
   ]
  },
  {
   "cell_type": "code",
   "execution_count": 6,
   "id": "99041728-1954-470a-8f5b-368780dffc57",
   "metadata": {},
   "outputs": [],
   "source": [
    "j=10"
   ]
  },
  {
   "cell_type": "code",
   "execution_count": 17,
   "id": "1a7fccea-adeb-4142-af01-dff84bc51a24",
   "metadata": {},
   "outputs": [
    {
     "name": "stdout",
     "output_type": "stream",
     "text": [
      "55\n"
     ]
    }
   ],
   "source": [
    "sum=0\n",
    "i=1\n",
    "while i<=10:\n",
    "      sum+=i\n",
    "      i+=1\n",
    "    \n",
    "print(sum)\n",
    "    \n",
    "    \n",
    "\n"
   ]
  },
  {
   "cell_type": "markdown",
   "id": "825a7837-835f-4916-8aa4-02b567e5d0c7",
   "metadata": {},
   "source": [
    "Question 3"
   ]
  },
  {
   "cell_type": "code",
   "execution_count": 19,
   "id": "053e73f8-b5bc-4f97-80cc-d6a9e250af0e",
   "metadata": {},
   "outputs": [
    {
     "name": "stdout",
     "output_type": "stream",
     "text": [
      "120\n"
     ]
    }
   ],
   "source": [
    "fact =1\n",
    "i=1\n",
    "n=5\n",
    "for i in  range(i,n+1):\n",
    "    fact*=i\n",
    "print(fact)\n"
   ]
  },
  {
   "cell_type": "markdown",
   "id": "68af0a12-b916-496c-93db-9c9237377260",
   "metadata": {},
   "source": [
    "Question 4"
   ]
  },
  {
   "cell_type": "code",
   "execution_count": 25,
   "id": "4e5f683a-2182-43de-b277-c48247ac9e84",
   "metadata": {},
   "outputs": [
    {
     "name": "stdout",
     "output_type": "stream",
     "text": [
      "3\n"
     ]
    }
   ],
   "source": [
    "vowels=\"aeiouAEIOU\"\n",
    "str=\"ahklie\"\n",
    "j=0\n",
    "for char in str:\n",
    "    if char in vowels:\n",
    "        j+=1\n",
    "print(j)"
   ]
  },
  {
   "cell_type": "markdown",
   "id": "e9dfc845-ef71-49ec-9db9-d6bbf6a89122",
   "metadata": {},
   "source": [
    "Question 5"
   ]
  },
  {
   "cell_type": "code",
   "execution_count": 29,
   "id": "4e640995-2632-472c-9259-a80d35f29627",
   "metadata": {},
   "outputs": [
    {
     "name": "stdout",
     "output_type": "stream",
     "text": [
      "* \n",
      "* * \n",
      "* * * \n",
      "* * * * \n",
      "* * * * * \n"
     ]
    }
   ],
   "source": [
    "rows = 5\n",
    "for i in range(rows):\n",
    "  for j in range(i + 1):\n",
    "    print(\"*\", end=\" \")\n",
    "  print()"
   ]
  },
  {
   "cell_type": "markdown",
   "id": "a90cbf74-a35f-4b5e-a434-ca228183319e",
   "metadata": {},
   "source": [
    "Question 6"
   ]
  },
  {
   "cell_type": "code",
   "execution_count": 32,
   "id": "5c62cfcb-1d06-4647-9578-d189c89bd8f6",
   "metadata": {},
   "outputs": [
    {
     "name": "stdout",
     "output_type": "stream",
     "text": [
      "2 x 1 = 2\n",
      "2 x 2 = 4\n",
      "2 x 3 = 6\n",
      "2 x 4 = 8\n",
      "2 x 5 = 10\n",
      "2 x 6 = 12\n",
      "2 x 7 = 14\n",
      "2 x 8 = 16\n",
      "2 x 9 = 18\n",
      "2 x 10 = 20\n"
     ]
    }
   ],
   "source": [
    "table_of=2\n",
    "\n",
    "for i in range(1,11):\n",
    "    prod=table_of*i\n",
    "    print(f\"{table_of} x {i} = {prod}\")"
   ]
  },
  {
   "cell_type": "code",
   "execution_count": null,
   "id": "5988e674-e55e-4cdd-8519-1ec0ca99e9f4",
   "metadata": {},
   "outputs": [],
   "source": []
  }
 ],
 "metadata": {
  "kernelspec": {
   "display_name": "Python 3 (ipykernel)",
   "language": "python",
   "name": "python3"
  },
  "language_info": {
   "codemirror_mode": {
    "name": "ipython",
    "version": 3
   },
   "file_extension": ".py",
   "mimetype": "text/x-python",
   "name": "python",
   "nbconvert_exporter": "python",
   "pygments_lexer": "ipython3",
   "version": "3.12.1"
  }
 },
 "nbformat": 4,
 "nbformat_minor": 5
}
